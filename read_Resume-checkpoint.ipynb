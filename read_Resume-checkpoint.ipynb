{
 "cells": [
  {
   "cell_type": "code",
   "execution_count": 1,
   "metadata": {},
   "outputs": [],
   "source": [
    "#Libraries\n",
    "import PyPDF2\n",
    "import os\n",
    "from os import listdir\n",
    "from os.path import isfile, join\n",
    "from io import StringIO\n",
    "import pandas as pd\n",
    "from collections import Counter\n",
    "import spacy\n",
    "nlp = spacy.load(\"en_core_web_sm\")\n",
    "from spacy.matcher import PhraseMatcher\n",
    "import matplotlib.pyplot as plt"
   ]
  },
  {
   "cell_type": "code",
   "execution_count": 2,
   "metadata": {},
   "outputs": [],
   "source": [
    "#Function to read resumes from the folder one by one\n",
    "mypath='CV' \n",
    "files = [os.path.join(mypath, f) for f in os.listdir(mypath) if os.path.isfile(os.path.join(mypath, f))]\n",
    "\n",
    "def pdfToTxt(file):\n",
    "    fileReader = PyPDF2.PdfFileReader(open(file,'rb'))\n",
    "    countpage = fileReader.getNumPages()\n",
    "    count = 0\n",
    "    Txt = []\n",
    "    while count < countpage:    \n",
    "        pageObj = fileReader.getPage(count)\n",
    "        count +=1\n",
    "        t = pageObj.extractText()\n",
    "        Txt.append(t)\n",
    "    return (Txt)\n"
   ]
  },
  {
   "cell_type": "code",
   "execution_count": 3,
   "metadata": {},
   "outputs": [],
   "source": [
    "\n",
    "#Function that builds a candidate profile\n",
    "\n",
    "def candidate_profile(file):\n",
    "    Txt = pdfToTxt(file) \n",
    "    Txt = str(Txt)\n",
    "    Txt = Txt.replace(\"\\\\n\", \"\")\n",
    "    Txt = Txt.lower()\n",
    "\n",
    "    col_list = [\"Actuariat\", \"Statistique\", \"MachineLearning\", \"DeepLearning\", \"R\", \"Python\"]\n",
    "    keywords_table = pd.read_csv('categories.csv', encoding = \"ISO-8859-1\", usecols=col_list, sep=';')\n",
    "    Actuar_words = [nlp(word) for word in keywords_table['Actuariat'].dropna(axis = 0)]\n",
    "    Stats_words = [nlp(word) for word in keywords_table['Statistique'].dropna(axis = 0)]\n",
    "    ML_words = [nlp(word) for word in keywords_table['MachineLearning'].dropna(axis = 0)]\n",
    "    DL_words = [nlp(word) for word in keywords_table['DeepLearning'].dropna(axis = 0)]\n",
    "    R_words = [nlp(word) for word in keywords_table['R'].dropna(axis = 0)]\n",
    "    python_words = [nlp(word) for word in keywords_table['Python'].dropna(axis = 0)]\n",
    "\n",
    "    matcher = PhraseMatcher(nlp.vocab)\n",
    "    matcher.add('Act', None, *Actuar_words)\n",
    "    matcher.add('Stat', None, *Stats_words)\n",
    "    matcher.add('ML', None, *ML_words)\n",
    "    matcher.add('DL', None, *DL_words)\n",
    "    matcher.add('R', None, *R_words)\n",
    "    matcher.add('Py', None, *python_words)\n",
    "    doc = nlp(Txt)\n",
    "    \n",
    "    d = []  \n",
    "    matches = matcher(doc)\n",
    "    for match_id, start, end in matches:\n",
    "        string_id = nlp.vocab.strings[match_id]  # get string representation\n",
    "        span = doc[start : end]  # get the matched spane \n",
    "        d.append((string_id, span.text))      \n",
    "    keywords = \"\\n\".join(f'{i[0]} {i[1]} ({j})' for i,j in Counter(d).items())\n",
    "    \n",
    "    ## convertimg string of keywords to dataframe\n",
    "    df = pd.read_csv(StringIO(keywords),names = ['Keywords_List'])\n",
    "    df1 = pd.DataFrame(df.Keywords_List.str.split(' ',1).tolist(),columns = ['Matière','Mot_clé'])\n",
    "    df2 = pd.DataFrame(df1.Mot_clé.str.split('(',1).tolist(),columns = ['Mot_clé', 'Count'])\n",
    "    df3 = pd.concat([df1['Matière'],df2['Mot_clé'], df2['Count']], axis =1) \n",
    "    df3['Count'] = df3['Count'].apply(lambda x: x.rstrip(\")\"))\n",
    "    \n",
    "    base = os.path.basename(file)\n",
    "    filename = os.path.splitext(base)[0]\n",
    "       \n",
    "    name = filename.split('_')\n",
    "    name2 = name[0]\n",
    "    name2 = name2.lower()\n",
    "    ## converting str to dataframe\n",
    "    name3 = pd.read_csv(StringIO(name2),names = ['Nom du candidat'])\n",
    "    \n",
    "    candidate_data = pd.concat([name3['Nom du candidat'], df3['Matière'], df3['Mot_clé'], df3['Count']], axis = 1)\n",
    "    candidate_data['Nom du candidat'].fillna(candidate_data['Nom du candidat'].iloc[0], inplace = True)\n",
    "\n",
    "    return(candidate_data)"
   ]
  },
  {
   "cell_type": "code",
   "execution_count": 4,
   "metadata": {},
   "outputs": [],
   "source": [
    "#Code to execute the above functions\n",
    "\n",
    "final_database=pd.DataFrame()\n",
    "i = 0 \n",
    "while i < len(files):\n",
    "    file = files[i]\n",
    "    dat = candidate_profile(file)\n",
    "    final_database = final_database.append(dat)\n",
    "    i +=1\n",
    "\n",
    "#Code to count words under each category\n",
    "\n",
    "final_database2 = final_database['Mot_clé'].groupby([final_database['Nom du candidat'], final_database['Matière']]).count().unstack()\n",
    "final_database2.reset_index(inplace = True)\n",
    "final_database2.fillna(0,inplace=True)\n",
    "new_data = final_database2.iloc[:,1:]\n",
    "new_data.index = final_database2['Nom du candidat']\n"
   ]
  },
  {
   "cell_type": "code",
   "execution_count": 5,
   "metadata": {},
   "outputs": [
    {
     "data": {
      "image/png": "[encoded data removed]",
      "text/plain": [
       "<Figure size 1800x504 with 1 Axes>"
      ]
     },
     "metadata": {
      "needs_background": "light"
     },
     "output_type": "display_data"
    }
   ],
   "source": [
    "#Plot\n",
    "plt.rcParams.update({'font.size': 10})\n",
    "ax = new_data.plot.barh(title=\"Nombre de mots clés selon chaque catégorie dans le CV de chaque candidat\", legend=False, figsize=(25,7), stacked=True)\n",
    "labels = []\n",
    "for j in new_data.columns:\n",
    "    for i in new_data.index:\n",
    "        label = str(j)+\":\" + str(new_data.loc[i][j])\n",
    "        labels.append(label)\n",
    "patches = ax.patches\n",
    "for label, rect in zip(labels, patches):\n",
    "    width = rect.get_width()\n",
    "    if width > 0:\n",
    "        x = rect.get_x()\n",
    "        y = rect.get_y()\n",
    "        height = rect.get_height()\n",
    "        ax.text(x + width/2., y + height/2., label, ha='center', va='center')\n",
    "plt.show()"
   ]
  },
  {
   "cell_type": "code",
   "execution_count": null,
   "metadata": {},
   "outputs": [],
   "source": []
  }
 ],
 "metadata": {
  "kernelspec": {
   "display_name": "Python 3",
   "language": "python",
   "name": "python3"
  },
  "language_info": {
   "codemirror_mode": {
    "name": "ipython",
    "version": 3
   },
   "file_extension": ".py",
   "mimetype": "text/x-python",
   "name": "python",
   "nbconvert_exporter": "python",
   "pygments_lexer": "ipython3",
   "version": "3.8.8"
  }
 },
 "nbformat": 4,
 "nbformat_minor": 4
}
